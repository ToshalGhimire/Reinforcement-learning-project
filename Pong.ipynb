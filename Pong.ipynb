{
 "cells": [
  {
   "cell_type": "code",
   "execution_count": 2,
   "metadata": {},
   "outputs": [],
   "source": [
    "# loading Game\n",
    "import gym\n",
    "#env = gym.make('Pong-ram-v0')\n",
    "env = gym.make('Pong-v0')\n",
    "env.reset()\n",
    "\n",
    "# Setting training parmaters\n",
    "max_frames = 300\n",
    "score_requirement = -2\n",
    "inital_games = 10\n",
    "\n",
    "\n",
    "##env = gym.make('CartPole-v0')\n",
    "##max_frames = 500\n",
    "##score_requirement = 50\n",
    "##inital_games = 10000\n",
    "\n"
   ]
  },
  {
   "cell_type": "code",
   "execution_count": null,
   "metadata": {},
   "outputs": [],
   "source": [
    "def play_game():\n",
    "    for ep in range(inital_games):\n",
    "        env.reset()\n",
    "        for t in range(200):\n",
    "            env.render()\n",
    "            \n",
    "            action = str(input())\n",
    "            if action == \"q\":\n",
    "                env.close()\n",
    "                return \n",
    "            \n",
    "            action = 2 if action == \"w\" else 5 if action ==\"s\" else 0\n",
    "            \n",
    "            observation, reward, done, info = env.step(action)\n",
    "            \n",
    "            print(\"T: \",t,\"\\tAction : \",ACTION_MEANING[action])\n",
    "            if done:\n",
    "                break\n",
    " \n"
   ]
  },
  {
   "cell_type": "code",
   "execution_count": null,
   "metadata": {},
   "outputs": [],
   "source": [
    "play_game()"
   ]
  },
  {
   "cell_type": "code",
   "execution_count": null,
   "metadata": {},
   "outputs": [],
   "source": [
    "env.close()"
   ]
  },
  {
   "cell_type": "code",
   "execution_count": 24,
   "metadata": {},
   "outputs": [],
   "source": [
    "def random_action():\n",
    "    r = random.randrange(0,2)\n",
    "    if r == 0:\n",
    "        return UP\n",
    "    elif r == 1:\n",
    "        return DOWN\n",
    "\n",
    "def tobits(act):\n",
    "    if act == 2:\n",
    "        # action was up\n",
    "        return 1\n",
    "    elif act == 5:\n",
    "        # action was down\n",
    "        return -1\n",
    "    else:\n",
    "        # action was noop\n",
    "        return 0"
   ]
  },
  {
   "cell_type": "code",
   "execution_count": 25,
   "metadata": {},
   "outputs": [],
   "source": [
    "# test the set of action of the game one frame at a time\n",
    "# enter 'w' for up, 'd' for down and enter for no op\n",
    "\n",
    "#play_game()\n",
    "\n",
    "def initial_population():\n",
    "    training_data = []\n",
    "    scores = []\n",
    "    accepted_scores = []\n",
    "    \n",
    "    for episode in range(inital_games):\n",
    "        score = 0\n",
    "        game_memory = []\n",
    "        observation = env.reset()\n",
    "\n",
    "        for _ in range(max_frames):\n",
    "            # playing an game until max frames reached or game is done\n",
    "            \n",
    "#             env.render() ## un comment to run the game\n",
    "            action = random_action()\n",
    "            game_memory.append([observation,tobits(action)])\n",
    "            \n",
    "            observation, reward, done, info = env.step(action)\n",
    "\n",
    "            \n",
    "            score += reward\n",
    "            \n",
    "            if done:\n",
    "                break\n",
    "\n",
    "        print(\"=> Episode #\",episode+1,\"\\tScore: \",score)\n",
    "        \n",
    "        if score >= score_requirement:\n",
    "            accepted_scores.append(score)\n",
    "            \n",
    "            for data in game_memory:                \n",
    "                training_data.append([data[0],data[1]])\n",
    "                \n",
    "        scores.append(score)\n",
    "    \n",
    "#     training_data_save = np.array(training_data)\n",
    "#     np.save('saved_R.npy',training_data_save)\n",
    "        \n",
    "#     print(\"Accepted score: \",accepted_scores)\n",
    "    \n",
    "#     print(\"\\nAverage scores: \",mean(scores))\n",
    "#     print(\"Average accepted score: \",mean(accepted_scores))\n",
    "#     print(\"Median accepted score: \",median(accepted_scores))\n",
    "#     print(Counter(accepted_scores))\n",
    "    env.close()\n",
    "\n",
    "    return training_data"
   ]
  },
  {
   "cell_type": "code",
   "execution_count": 7,
   "metadata": {},
   "outputs": [
    {
     "name": "stdout",
     "output_type": "stream",
     "text": [
      "=> Episode # 1 \tScore:  -5.0\n",
      "=> Episode # 2 \tScore:  -3.0\n",
      "=> Episode # 3 \tScore:  -3.0\n",
      "=> Episode # 4 \tScore:  -2.0\n",
      "=> Episode # 5 \tScore:  -2.0\n",
      "=> Episode # 6 \tScore:  -4.0\n",
      "=> Episode # 7 \tScore:  -5.0\n",
      "=> Episode # 8 \tScore:  -2.0\n",
      "=> Episode # 9 \tScore:  -5.0\n",
      "=> Episode # 10 \tScore:  -4.0\n"
     ]
    }
   ],
   "source": [
    "Dataset = initial_population()"
   ]
  },
  {
   "cell_type": "code",
   "execution_count": 85,
   "metadata": {},
   "outputs": [],
   "source": [
    "env.close()"
   ]
  },
  {
   "cell_type": "code",
   "execution_count": 8,
   "metadata": {},
   "outputs": [
    {
     "name": "stdout",
     "output_type": "stream",
     "text": [
      "Size of dataset:  900\n"
     ]
    },
    {
     "data": {
      "text/plain": [
       "[array([[[  0,   0,   0],\n",
       "         [  0,   0,   0],\n",
       "         [  0,   0,   0],\n",
       "         ...,\n",
       "         [144,  72,  17],\n",
       "         [144,  72,  17],\n",
       "         [144,  72,  17]],\n",
       " \n",
       "        [[144,  72,  17],\n",
       "         [144,  72,  17],\n",
       "         [144,  72,  17],\n",
       "         ...,\n",
       "         [144,  72,  17],\n",
       "         [144,  72,  17],\n",
       "         [144,  72,  17]],\n",
       " \n",
       "        [[144,  72,  17],\n",
       "         [144,  72,  17],\n",
       "         [144,  72,  17],\n",
       "         ...,\n",
       "         [144,  72,  17],\n",
       "         [144,  72,  17],\n",
       "         [144,  72,  17]],\n",
       " \n",
       "        ...,\n",
       " \n",
       "        [[236, 236, 236],\n",
       "         [236, 236, 236],\n",
       "         [236, 236, 236],\n",
       "         ...,\n",
       "         [236, 236, 236],\n",
       "         [236, 236, 236],\n",
       "         [236, 236, 236]],\n",
       " \n",
       "        [[236, 236, 236],\n",
       "         [236, 236, 236],\n",
       "         [236, 236, 236],\n",
       "         ...,\n",
       "         [236, 236, 236],\n",
       "         [236, 236, 236],\n",
       "         [236, 236, 236]],\n",
       " \n",
       "        [[236, 236, 236],\n",
       "         [236, 236, 236],\n",
       "         [236, 236, 236],\n",
       "         ...,\n",
       "         [236, 236, 236],\n",
       "         [236, 236, 236],\n",
       "         [236, 236, 236]]], dtype=uint8), -1]"
      ]
     },
     "execution_count": 8,
     "metadata": {},
     "output_type": "execute_result"
    }
   ],
   "source": [
    "print(\"Size of dataset: \",len(Dataset))\n",
    "Dataset[1]"
   ]
  },
  {
   "cell_type": "code",
   "execution_count": 9,
   "metadata": {},
   "outputs": [],
   "source": [
    "def process_data(datum):\n",
    "    downsample = np.mean(datum[:, ::2, ::2], axis=3)\n",
    "    return downsample.reshape(*downsample.shape, 1)"
   ]
  },
  {
   "cell_type": "code",
   "execution_count": 10,
   "metadata": {},
   "outputs": [],
   "source": [
    "model = Sequential()\n",
    "model.add(Conv2D(256, (3, 3), input_shape=(105, 80, 1), padding=\"same\"))\n",
    "model.add(MaxPooling2D(pool_size=(2, 2)))\n",
    "model.add(Flatten())\n",
    "model.add(Dense(1, activation=\"linear\", kernel_initializer=\"uniform\"))\n",
    "\n",
    "model.compile(loss='binary_crossentropy', optimizer='adam', metrics=['accuracy'])"
   ]
  },
  {
   "cell_type": "code",
   "execution_count": 11,
   "metadata": {
    "scrolled": false
   },
   "outputs": [
    {
     "name": "stdout",
     "output_type": "stream",
     "text": [
      "(900, 1)\n",
      "(210, 160, 3)\n",
      "_________________________________________________________________\n",
      "Layer (type)                 Output Shape              Param #   \n",
      "=================================================================\n",
      "conv2d_1 (Conv2D)            (None, 105, 80, 256)      2560      \n",
      "_________________________________________________________________\n",
      "max_pooling2d_1 (MaxPooling2 (None, 52, 40, 256)       0         \n",
      "_________________________________________________________________\n",
      "flatten_1 (Flatten)          (None, 532480)            0         \n",
      "_________________________________________________________________\n",
      "dense_1 (Dense)              (None, 1)                 532481    \n",
      "=================================================================\n",
      "Total params: 535,041\n",
      "Trainable params: 535,041\n",
      "Non-trainable params: 0\n",
      "_________________________________________________________________\n"
     ]
    }
   ],
   "source": [
    "X_train = np.array([i[0] for i in Dataset])\n",
    "\n",
    "def f(x):\n",
    "    return x if x == 1 else 0\n",
    "\n",
    "y_train = np.array([f(i[1]) for i in Dataset])\n",
    "y_train = y_train.reshape(y_train.shape[0], 1)\n",
    "print(y_train.shape)\n",
    "print(X_train[0].shape)\n",
    "model.summary()"
   ]
  },
  {
   "cell_type": "code",
   "execution_count": 23,
   "metadata": {
    "scrolled": true
   },
   "outputs": [
    {
     "name": "stdout",
     "output_type": "stream",
     "text": [
      "Epoch 1/20\n",
      "900/900 [==============================] - 24s 27ms/step - loss: 8.0952 - acc: 0.0000e+00\n",
      "Epoch 2/20\n",
      "900/900 [==============================] - 24s 26ms/step - loss: 8.0952 - acc: 0.0000e+00\n",
      "Epoch 3/20\n",
      "900/900 [==============================] - 26s 29ms/step - loss: 8.0952 - acc: 0.0000e+00\n",
      "Epoch 4/20\n",
      "288/900 [========>.....................] - ETA: 23s - loss: 8.1926 - acc: 0.0000e+00"
     ]
    },
    {
     "ename": "KeyboardInterrupt",
     "evalue": "",
     "output_type": "error",
     "traceback": [
      "\u001b[0;31m---------------------------------------------------------------------------\u001b[0m",
      "\u001b[0;31mKeyboardInterrupt\u001b[0m                         Traceback (most recent call last)",
      "\u001b[0;32m<ipython-input-23-7158524622b6>\u001b[0m in \u001b[0;36m<module>\u001b[0;34m\u001b[0m\n\u001b[0;32m----> 1\u001b[0;31m \u001b[0mmodel\u001b[0m\u001b[0;34m.\u001b[0m\u001b[0mfit\u001b[0m\u001b[0;34m(\u001b[0m\u001b[0mprocess_data\u001b[0m\u001b[0;34m(\u001b[0m\u001b[0mX_train\u001b[0m\u001b[0;34m)\u001b[0m\u001b[0;34m,\u001b[0m \u001b[0my_train\u001b[0m\u001b[0;34m,\u001b[0m \u001b[0mepochs\u001b[0m\u001b[0;34m=\u001b[0m\u001b[0;36m20\u001b[0m\u001b[0;34m)\u001b[0m\u001b[0;34m\u001b[0m\u001b[0m\n\u001b[0m",
      "\u001b[0;32m~/Developer/CSCI-4622-Machine-Learning-18fa/keras_env/lib/python3.6/site-packages/keras/engine/training.py\u001b[0m in \u001b[0;36mfit\u001b[0;34m(self, x, y, batch_size, epochs, verbose, callbacks, validation_split, validation_data, shuffle, class_weight, sample_weight, initial_epoch, steps_per_epoch, validation_steps, **kwargs)\u001b[0m\n\u001b[1;32m   1035\u001b[0m                                         \u001b[0minitial_epoch\u001b[0m\u001b[0;34m=\u001b[0m\u001b[0minitial_epoch\u001b[0m\u001b[0;34m,\u001b[0m\u001b[0;34m\u001b[0m\u001b[0m\n\u001b[1;32m   1036\u001b[0m                                         \u001b[0msteps_per_epoch\u001b[0m\u001b[0;34m=\u001b[0m\u001b[0msteps_per_epoch\u001b[0m\u001b[0;34m,\u001b[0m\u001b[0;34m\u001b[0m\u001b[0m\n\u001b[0;32m-> 1037\u001b[0;31m                                         validation_steps=validation_steps)\n\u001b[0m\u001b[1;32m   1038\u001b[0m \u001b[0;34m\u001b[0m\u001b[0m\n\u001b[1;32m   1039\u001b[0m     def evaluate(self, x=None, y=None,\n",
      "\u001b[0;32m~/Developer/CSCI-4622-Machine-Learning-18fa/keras_env/lib/python3.6/site-packages/keras/engine/training_arrays.py\u001b[0m in \u001b[0;36mfit_loop\u001b[0;34m(model, f, ins, out_labels, batch_size, epochs, verbose, callbacks, val_f, val_ins, shuffle, callback_metrics, initial_epoch, steps_per_epoch, validation_steps)\u001b[0m\n\u001b[1;32m    197\u001b[0m                     \u001b[0mins_batch\u001b[0m\u001b[0;34m[\u001b[0m\u001b[0mi\u001b[0m\u001b[0;34m]\u001b[0m \u001b[0;34m=\u001b[0m \u001b[0mins_batch\u001b[0m\u001b[0;34m[\u001b[0m\u001b[0mi\u001b[0m\u001b[0;34m]\u001b[0m\u001b[0;34m.\u001b[0m\u001b[0mtoarray\u001b[0m\u001b[0;34m(\u001b[0m\u001b[0;34m)\u001b[0m\u001b[0;34m\u001b[0m\u001b[0m\n\u001b[1;32m    198\u001b[0m \u001b[0;34m\u001b[0m\u001b[0m\n\u001b[0;32m--> 199\u001b[0;31m                 \u001b[0mouts\u001b[0m \u001b[0;34m=\u001b[0m \u001b[0mf\u001b[0m\u001b[0;34m(\u001b[0m\u001b[0mins_batch\u001b[0m\u001b[0;34m)\u001b[0m\u001b[0;34m\u001b[0m\u001b[0m\n\u001b[0m\u001b[1;32m    200\u001b[0m                 \u001b[0mouts\u001b[0m \u001b[0;34m=\u001b[0m \u001b[0mto_list\u001b[0m\u001b[0;34m(\u001b[0m\u001b[0mouts\u001b[0m\u001b[0;34m)\u001b[0m\u001b[0;34m\u001b[0m\u001b[0m\n\u001b[1;32m    201\u001b[0m                 \u001b[0;32mfor\u001b[0m \u001b[0ml\u001b[0m\u001b[0;34m,\u001b[0m \u001b[0mo\u001b[0m \u001b[0;32min\u001b[0m \u001b[0mzip\u001b[0m\u001b[0;34m(\u001b[0m\u001b[0mout_labels\u001b[0m\u001b[0;34m,\u001b[0m \u001b[0mouts\u001b[0m\u001b[0;34m)\u001b[0m\u001b[0;34m:\u001b[0m\u001b[0;34m\u001b[0m\u001b[0m\n",
      "\u001b[0;32m~/Developer/CSCI-4622-Machine-Learning-18fa/keras_env/lib/python3.6/site-packages/keras/backend/tensorflow_backend.py\u001b[0m in \u001b[0;36m__call__\u001b[0;34m(self, inputs)\u001b[0m\n\u001b[1;32m   2664\u001b[0m                 \u001b[0;32mreturn\u001b[0m \u001b[0mself\u001b[0m\u001b[0;34m.\u001b[0m\u001b[0m_legacy_call\u001b[0m\u001b[0;34m(\u001b[0m\u001b[0minputs\u001b[0m\u001b[0;34m)\u001b[0m\u001b[0;34m\u001b[0m\u001b[0m\n\u001b[1;32m   2665\u001b[0m \u001b[0;34m\u001b[0m\u001b[0m\n\u001b[0;32m-> 2666\u001b[0;31m             \u001b[0;32mreturn\u001b[0m \u001b[0mself\u001b[0m\u001b[0;34m.\u001b[0m\u001b[0m_call\u001b[0m\u001b[0;34m(\u001b[0m\u001b[0minputs\u001b[0m\u001b[0;34m)\u001b[0m\u001b[0;34m\u001b[0m\u001b[0m\n\u001b[0m\u001b[1;32m   2667\u001b[0m         \u001b[0;32melse\u001b[0m\u001b[0;34m:\u001b[0m\u001b[0;34m\u001b[0m\u001b[0m\n\u001b[1;32m   2668\u001b[0m             \u001b[0;32mif\u001b[0m \u001b[0mpy_any\u001b[0m\u001b[0;34m(\u001b[0m\u001b[0mis_tensor\u001b[0m\u001b[0;34m(\u001b[0m\u001b[0mx\u001b[0m\u001b[0;34m)\u001b[0m \u001b[0;32mfor\u001b[0m \u001b[0mx\u001b[0m \u001b[0;32min\u001b[0m \u001b[0minputs\u001b[0m\u001b[0;34m)\u001b[0m\u001b[0;34m:\u001b[0m\u001b[0;34m\u001b[0m\u001b[0m\n",
      "\u001b[0;32m~/Developer/CSCI-4622-Machine-Learning-18fa/keras_env/lib/python3.6/site-packages/keras/backend/tensorflow_backend.py\u001b[0m in \u001b[0;36m_call\u001b[0;34m(self, inputs)\u001b[0m\n\u001b[1;32m   2634\u001b[0m                                 \u001b[0msymbol_vals\u001b[0m\u001b[0;34m,\u001b[0m\u001b[0;34m\u001b[0m\u001b[0m\n\u001b[1;32m   2635\u001b[0m                                 session)\n\u001b[0;32m-> 2636\u001b[0;31m         \u001b[0mfetched\u001b[0m \u001b[0;34m=\u001b[0m \u001b[0mself\u001b[0m\u001b[0;34m.\u001b[0m\u001b[0m_callable_fn\u001b[0m\u001b[0;34m(\u001b[0m\u001b[0;34m*\u001b[0m\u001b[0marray_vals\u001b[0m\u001b[0;34m)\u001b[0m\u001b[0;34m\u001b[0m\u001b[0m\n\u001b[0m\u001b[1;32m   2637\u001b[0m         \u001b[0;32mreturn\u001b[0m \u001b[0mfetched\u001b[0m\u001b[0;34m[\u001b[0m\u001b[0;34m:\u001b[0m\u001b[0mlen\u001b[0m\u001b[0;34m(\u001b[0m\u001b[0mself\u001b[0m\u001b[0;34m.\u001b[0m\u001b[0moutputs\u001b[0m\u001b[0;34m)\u001b[0m\u001b[0;34m]\u001b[0m\u001b[0;34m\u001b[0m\u001b[0m\n\u001b[1;32m   2638\u001b[0m \u001b[0;34m\u001b[0m\u001b[0m\n",
      "\u001b[0;32m~/Developer/CSCI-4622-Machine-Learning-18fa/keras_env/lib/python3.6/site-packages/tensorflow/python/client/session.py\u001b[0m in \u001b[0;36m__call__\u001b[0;34m(self, *args, **kwargs)\u001b[0m\n\u001b[1;32m   1397\u001b[0m           ret = tf_session.TF_SessionRunCallable(\n\u001b[1;32m   1398\u001b[0m               \u001b[0mself\u001b[0m\u001b[0;34m.\u001b[0m\u001b[0m_session\u001b[0m\u001b[0;34m.\u001b[0m\u001b[0m_session\u001b[0m\u001b[0;34m,\u001b[0m \u001b[0mself\u001b[0m\u001b[0;34m.\u001b[0m\u001b[0m_handle\u001b[0m\u001b[0;34m,\u001b[0m \u001b[0margs\u001b[0m\u001b[0;34m,\u001b[0m \u001b[0mstatus\u001b[0m\u001b[0;34m,\u001b[0m\u001b[0;34m\u001b[0m\u001b[0m\n\u001b[0;32m-> 1399\u001b[0;31m               run_metadata_ptr)\n\u001b[0m\u001b[1;32m   1400\u001b[0m         \u001b[0;32mif\u001b[0m \u001b[0mrun_metadata\u001b[0m\u001b[0;34m:\u001b[0m\u001b[0;34m\u001b[0m\u001b[0m\n\u001b[1;32m   1401\u001b[0m           \u001b[0mproto_data\u001b[0m \u001b[0;34m=\u001b[0m \u001b[0mtf_session\u001b[0m\u001b[0;34m.\u001b[0m\u001b[0mTF_GetBuffer\u001b[0m\u001b[0;34m(\u001b[0m\u001b[0mrun_metadata_ptr\u001b[0m\u001b[0;34m)\u001b[0m\u001b[0;34m\u001b[0m\u001b[0m\n",
      "\u001b[0;31mKeyboardInterrupt\u001b[0m: "
     ]
    }
   ],
   "source": [
    "model.fit(process_data(X_train), y_train, epochs=20)"
   ]
  },
  {
   "cell_type": "code",
   "execution_count": 21,
   "metadata": {},
   "outputs": [
    {
     "data": {
      "text/plain": [
       "array([[[[  0.        ],\n",
       "         [  0.        ],\n",
       "         [  0.        ],\n",
       "         ...,\n",
       "         [ 90.        ],\n",
       "         [ 90.        ],\n",
       "         [ 90.        ]],\n",
       "\n",
       "        [[ 90.        ],\n",
       "         [ 90.        ],\n",
       "         [ 90.        ],\n",
       "         ...,\n",
       "         [ 90.        ],\n",
       "         [ 90.        ],\n",
       "         [ 90.        ]],\n",
       "\n",
       "        [[ 90.        ],\n",
       "         [ 90.        ],\n",
       "         [ 90.        ],\n",
       "         ...,\n",
       "         [ 90.        ],\n",
       "         [ 90.        ],\n",
       "         [ 90.        ]],\n",
       "\n",
       "        ...,\n",
       "\n",
       "        [[ 57.33333333],\n",
       "         [ 57.33333333],\n",
       "         [ 57.33333333],\n",
       "         ...,\n",
       "         [ 57.33333333],\n",
       "         [ 57.33333333],\n",
       "         [ 57.33333333]],\n",
       "\n",
       "        [[ 57.33333333],\n",
       "         [ 57.33333333],\n",
       "         [ 57.33333333],\n",
       "         ...,\n",
       "         [ 57.33333333],\n",
       "         [ 57.33333333],\n",
       "         [ 57.33333333]],\n",
       "\n",
       "        [[ 57.33333333],\n",
       "         [ 57.33333333],\n",
       "         [ 57.33333333],\n",
       "         ...,\n",
       "         [ 57.33333333],\n",
       "         [ 57.33333333],\n",
       "         [ 57.33333333]]],\n",
       "\n",
       "\n",
       "       [[[  0.        ],\n",
       "         [  0.        ],\n",
       "         [  0.        ],\n",
       "         ...,\n",
       "         [ 77.66666667],\n",
       "         [ 77.66666667],\n",
       "         [ 77.66666667]],\n",
       "\n",
       "        [[ 77.66666667],\n",
       "         [ 77.66666667],\n",
       "         [ 77.66666667],\n",
       "         ...,\n",
       "         [ 77.66666667],\n",
       "         [ 77.66666667],\n",
       "         [ 77.66666667]],\n",
       "\n",
       "        [[ 77.66666667],\n",
       "         [ 77.66666667],\n",
       "         [ 77.66666667],\n",
       "         ...,\n",
       "         [ 77.66666667],\n",
       "         [ 77.66666667],\n",
       "         [ 77.66666667]],\n",
       "\n",
       "        ...,\n",
       "\n",
       "        [[236.        ],\n",
       "         [236.        ],\n",
       "         [236.        ],\n",
       "         ...,\n",
       "         [236.        ],\n",
       "         [236.        ],\n",
       "         [236.        ]],\n",
       "\n",
       "        [[236.        ],\n",
       "         [236.        ],\n",
       "         [236.        ],\n",
       "         ...,\n",
       "         [236.        ],\n",
       "         [236.        ],\n",
       "         [236.        ]],\n",
       "\n",
       "        [[236.        ],\n",
       "         [236.        ],\n",
       "         [236.        ],\n",
       "         ...,\n",
       "         [236.        ],\n",
       "         [236.        ],\n",
       "         [236.        ]]]])"
      ]
     },
     "execution_count": 21,
     "metadata": {},
     "output_type": "execute_result"
    }
   ],
   "source": [
    "process_data(X_train[:2])"
   ]
  },
  {
   "cell_type": "code",
   "execution_count": 22,
   "metadata": {},
   "outputs": [
    {
     "data": {
      "text/plain": [
       "array([[116.371925],\n",
       "       [106.324295]], dtype=float32)"
      ]
     },
     "execution_count": 22,
     "metadata": {},
     "output_type": "execute_result"
    }
   ],
   "source": [
    "model.predict(process_data(X_train[:2]))"
   ]
  },
  {
   "cell_type": "markdown",
   "metadata": {},
   "source": [
    "# work from saturday"
   ]
  },
  {
   "cell_type": "code",
   "execution_count": null,
   "metadata": {},
   "outputs": [],
   "source": [
    "## From satudary"
   ]
  },
  {
   "cell_type": "code",
   "execution_count": null,
   "metadata": {},
   "outputs": [],
   "source": [
    "def random_game():\n",
    "    for epsiode in range(5):\n",
    "        print(\"========== Episode #\",epsiode+1,\" ==========\")\n",
    "        env.reset()\n",
    "        for t in range(max_frames):\n",
    "            env.render()\n",
    "            \n",
    "            a = str(input())\n",
    "            if a == 'q':\n",
    "                env.close()\n",
    "                return\n",
    "            elif a == 'n':\n",
    "                break\n",
    "                \n",
    "            action = env.action_space.sample()\n",
    "            observation, reward, done, info = env.step(action)\n",
    "            \n",
    "            print(\"T: \",t,\"\\tAction : \",ACTION_MEANING[action])\n",
    "\n",
    "            \n",
    "                \n",
    "            if done:\n",
    "                break\n",
    "\n",
    "                \n",
    "\n",
    "\n",
    "def initial_population():\n",
    "    training_data = []\n",
    "    scores = []\n",
    "    accepted_scores = []\n",
    "    \n",
    "    for episode in range(inital_games):\n",
    "        score = 0\n",
    "        game_memory = []\n",
    "        prev_observation = []\n",
    "        for _ in range(max_frames):\n",
    "            ##env.render()\n",
    "            action = Pong_random_action()\n",
    "            #action = env.action_space.sample()\n",
    "            observation, reward, done, info = env.step(action)\n",
    "\n",
    "            if len(prev_observation) > 0:\n",
    "                game_memory.append([prev_observation,action])\n",
    "            \n",
    "            prev_observation = observation\n",
    "            \n",
    "            score += reward\n",
    "            \n",
    "            if done:\n",
    "                break\n",
    "\n",
    "        print(\"=> Episode #\",episode+1,\"\\tScore: \",score)\n",
    "        if score >= score_requirement:\n",
    "            accepted_scores.append(score)\n",
    "            for data in game_memory:\n",
    "                output = None\n",
    "                if data[1] == 2:# action up\n",
    "                    output = 1\n",
    "                if data[1] == 5: # action down\n",
    "                    output = 0\n",
    "                    \n",
    "                training_data.append([data[0],output])\n",
    "                \n",
    "        env.reset()\n",
    "        scores.append(score)\n",
    "    \n",
    "    training_data_save = np.array(training_data)\n",
    "    np.save('saved_R.npy',training_data_save)\n",
    "        \n",
    "    print(\"Accepted score: \",accepted_scores)\n",
    "    \n",
    "    print(\"\\nAverage scores: \",mean(scores))\n",
    "    print(\"Average accepted score: \",mean(accepted_scores))\n",
    "    print(\"Median accepted score: \",median(accepted_scores))\n",
    "    print(Counter(accepted_scores))\n",
    "\n",
    "    return training_data\n",
    "        \n",
    "        \n",
    "        \n",
    "        \n",
    "        "
   ]
  },
  {
   "cell_type": "code",
   "execution_count": null,
   "metadata": {
    "scrolled": true
   },
   "outputs": [],
   "source": [
    "training_data_set = initial_population()"
   ]
  },
  {
   "cell_type": "code",
   "execution_count": null,
   "metadata": {},
   "outputs": [],
   "source": []
  },
  {
   "cell_type": "code",
   "execution_count": null,
   "metadata": {},
   "outputs": [],
   "source": []
  },
  {
   "cell_type": "code",
   "execution_count": null,
   "metadata": {},
   "outputs": [],
   "source": [
    "print(\"Length of training data: \",len(training_data_set))\n",
    "training_data_set = np.array(training_data_set)\n",
    "np.array(training_data_set[0][0]).shape\n"
   ]
  },
  {
   "cell_type": "code",
   "execution_count": null,
   "metadata": {},
   "outputs": [],
   "source": [
    "print(\"Training dataset: \",np.array(training_data_set).shape)\n",
    "print(\"Target: \",env.observation_space.shape)\n",
    "\n",
    "\n",
    "X_train = np.array([i[0] for i in training_data_set])\n",
    "y_train = np.array([i[1] for i in training_data_set])\n"
   ]
  },
  {
   "cell_type": "code",
   "execution_count": null,
   "metadata": {},
   "outputs": [],
   "source": [
    "from keras.models import Sequential\n",
    "from keras.layers import Dense, Flatten  "
   ]
  },
  {
   "cell_type": "code",
   "execution_count": null,
   "metadata": {},
   "outputs": [],
   "source": [
    "# defines the model\n",
    "model = Sequential()\n",
    "model.add(Dense(128, input_shape=env.observation_space.shape, activation=\"relu\", kernel_initializer=\"uniform\"))\n",
    "model.add(Dense(256, activation=\"relu\", kernel_initializer=\"uniform\"))\n",
    "model.add(Dense(128, activation=\"relu\", kernel_initializer=\"uniform\"))\n",
    "model.add(Dense(64, activation=\"relu\", kernel_initializer=\"uniform\"))\n",
    "model.add(Dense(2, activation=\"linear\", kernel_initializer=\"uniform\"))\n",
    "model.compile(loss='mse', optimizer='adam', metrics=['accuracy'])\n"
   ]
  },
  {
   "cell_type": "code",
   "execution_count": null,
   "metadata": {},
   "outputs": [],
   "source": [
    "# training sets\n",
    "\n",
    "\n",
    "model.fit([X_train], y_train, epochs=10, batch_size=32,verbose=1)\n",
    "\n",
    "#training_data_set[0][0].shape"
   ]
  },
  {
   "cell_type": "code",
   "execution_count": null,
   "metadata": {},
   "outputs": [],
   "source": []
  },
  {
   "cell_type": "code",
   "execution_count": null,
   "metadata": {},
   "outputs": [],
   "source": []
  },
  {
   "cell_type": "markdown",
   "metadata": {},
   "source": [
    "**Uncomment the cell bellow to save the model**"
   ]
  },
  {
   "cell_type": "code",
   "execution_count": null,
   "metadata": {},
   "outputs": [],
   "source": [
    "#from keras.models import load_model\n",
    "\n",
    "#model.save(\"FirstModel_withRandom.h5\")\n",
    "\n",
    "#model = load_model('FirstModel_withRandom.h5')\n",
    "\n",
    "yuoo = None"
   ]
  },
  {
   "cell_type": "code",
   "execution_count": null,
   "metadata": {},
   "outputs": [],
   "source": [
    "def binary_to_action(bit):\n",
    "    if bit == [0,1]:\n",
    "        return 5\n",
    "    else:\n",
    "        return 2\n",
    "\n",
    "def game_with_model():\n",
    "    scores = []\n",
    "    choices = []\n",
    "    for each_game in range(10):\n",
    "        score = 0\n",
    "        game_memory = []\n",
    "        prev_obs = []\n",
    "        env.reset()\n",
    "        for _ in range(max_frames):\n",
    "            env.render()\n",
    "            if len(prev_obs) == 0:\n",
    "                action = Pong_random_action()\n",
    "            else:\n",
    "                #predict based on our model\n",
    "                #print(\"obs shape: \",prev_obs.shape)\n",
    "                #print(prev_obs)\n",
    "                action = model.predict([[prev_obs]])\n",
    "            \n",
    "            choices.append(action)\n",
    "            observation, reward, done, info = env.step(action)\n",
    "            prev_obs = observation\n",
    "            game_memory.append([observation,action])\n",
    "            score += reward\n",
    "            \n",
    "            if done:\n",
    "                break\n",
    "        scores.append(score)\n",
    "        \n",
    "    print(\"\\nAverage scores: \",mean(scores))\n",
    "    print(\"Chose UP \",choices.count(2)/len(choices),\" chose Down \",choices.count(5)/len(choices))\n"
   ]
  },
  {
   "cell_type": "code",
   "execution_count": null,
   "metadata": {},
   "outputs": [],
   "source": [
    "game_with_model()"
   ]
  },
  {
   "cell_type": "code",
   "execution_count": null,
   "metadata": {},
   "outputs": [],
   "source": [
    "env.close()"
   ]
  },
  {
   "cell_type": "code",
   "execution_count": null,
   "metadata": {},
   "outputs": [],
   "source": [
    "model.predict(yuoo)"
   ]
  },
  {
   "cell_type": "markdown",
   "metadata": {},
   "source": [
    "\n",
    "# Run the cell before the code"
   ]
  },
  {
   "cell_type": "code",
   "execution_count": 6,
   "metadata": {},
   "outputs": [
    {
     "name": "stderr",
     "output_type": "stream",
     "text": [
      "Using TensorFlow backend.\n"
     ]
    }
   ],
   "source": [
    "# standard modules \n",
    "import numpy as np\n",
    "import random \n",
    "from collections import Counter\n",
    "from statistics import mean, median\n",
    "\n",
    "# keras import\n",
    "from keras.models import Sequential\n",
    "from keras.layers import Dense, Flatten  \n",
    "from keras.models import load_model\n",
    "from keras.layers.convolutional import Conv2D, MaxPooling2D\n",
    "\n",
    "# list of actions\n",
    "ACTION_MEANING = {\n",
    "    0 : \"NOOP\",\n",
    "    1 : \"FIRE\",\n",
    "    2 : \"UP\",\n",
    "    3 : \"RIGHT\",\n",
    "    4 : \"LEFT\",\n",
    "    5 : \"DOWN\",\n",
    "    6 : \"UPRIGHT\",\n",
    "    7 : \"UPLEFT\",\n",
    "    8 : \"DOWNRIGHT\",\n",
    "    9 : \"DOWNLEFT\",\n",
    "    10 : \"UPFIRE\",\n",
    "    11 : \"RIGHTFIRE\",\n",
    "    12 : \"LEFTFIRE\",\n",
    "    13 : \"DOWNFIRE\",\n",
    "    14 : \"UPRIGHTFIRE\",\n",
    "    15 : \"UPLEFTFIRE\",\n",
    "    16 : \"DOWNRIGHTFIRE\",\n",
    "    17 : \"DOWNLEFTFIRE\",\n",
    "}\n",
    "UP = 2\n",
    "DOWN = 5\n",
    "\n",
    "\n",
    "## function that randomly returns up or down\n",
    "def Pong_random_action():\n",
    "    r = random.randrange(0,2)\n",
    "    if r == 0:\n",
    "        return UP\n",
    "    else:\n",
    "        return DOWN\n"
   ]
  },
  {
   "cell_type": "code",
   "execution_count": null,
   "metadata": {},
   "outputs": [],
   "source": []
  }
 ],
 "metadata": {
  "kernelspec": {
   "display_name": "Python 3",
   "language": "python",
   "name": "python3"
  },
  "language_info": {
   "codemirror_mode": {
    "name": "ipython",
    "version": 3
   },
   "file_extension": ".py",
   "mimetype": "text/x-python",
   "name": "python",
   "nbconvert_exporter": "python",
   "pygments_lexer": "ipython3",
   "version": "3.6.5"
  }
 },
 "nbformat": 4,
 "nbformat_minor": 2
}
