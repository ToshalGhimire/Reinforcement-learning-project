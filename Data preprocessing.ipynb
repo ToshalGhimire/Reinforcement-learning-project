{
 "cells": [
  {
   "cell_type": "code",
   "execution_count": 20,
   "metadata": {},
   "outputs": [],
   "source": [
    "import gym\n",
    "import numpy as np\n",
    "from math import floor, ceil\n",
    "import time\n",
    "import logging\n",
    "import warnings\n",
    "from PIL import Image\n",
    "import imageio\n",
    "import matplotlib.pyplot as plt\n",
    "%matplotlib inline\n",
    "\n",
    "from keras.models import Sequential, load_model\n",
    "from keras.layers import Dense, Flatten  \n",
    "from keras.layers.convolutional import Conv2D, MaxPooling2D"
   ]
  },
  {
   "cell_type": "code",
   "execution_count": 4,
   "metadata": {},
   "outputs": [],
   "source": [
    "env = gym.make('Pong-v0')"
   ]
  },
  {
   "cell_type": "code",
   "execution_count": 5,
   "metadata": {},
   "outputs": [],
   "source": [
    "UP = 2\n",
    "NOOP = 3\n",
    "DOWN = 5"
   ]
  },
  {
   "cell_type": "code",
   "execution_count": 6,
   "metadata": {},
   "outputs": [],
   "source": [
    "def random_action():\n",
    "    return np.random.choice([UP, NOOP, DOWN])\n",
    "\n",
    "def tobits(action):\n",
    "    if action == 2: return 1\n",
    "    elif action == 5: return -1\n",
    "    else: return 0"
   ]
  },
  {
   "cell_type": "code",
   "execution_count": 60,
   "metadata": {},
   "outputs": [],
   "source": [
    "def process_data(data):\n",
    "    if len(data.shape) == 3:\n",
    "        cropped = data[34:-16,:]\n",
    "        return np.mean(cropped[::2,::2,:], axis=2).astype(np.uint8)\n",
    "    elif len(data.shape) == 4:\n",
    "        cropped = data[:,34:-16,:]\n",
    "        downsample = np.mean(cropped[:, ::2, ::2], axis=3).astype(np.uint8)\n",
    "        return downsample.reshape(*downsample.shape, 1)\n",
    "    else:\n",
    "        raise ValueError()"
   ]
  },
  {
   "cell_type": "code",
   "execution_count": 61,
   "metadata": {},
   "outputs": [],
   "source": [
    "def play_random_game(process=False):\n",
    "    states, actions, rewards = [], [], []\n",
    "    \n",
    "    window, game_memory = [], []\n",
    "    observation = env.reset()\n",
    "    done = False\n",
    "\n",
    "    while not done:\n",
    "        action = random_action()\n",
    "        observation, reward, done, info = env.step(action)\n",
    "\n",
    "        states.append(process_data(observation) if process else observation)\n",
    "        actions.append(tobits(actions))\n",
    "        rewards.append(reward)\n",
    "            \n",
    "    env.close()\n",
    "\n",
    "    return states, actions, rewards"
   ]
  },
  {
   "cell_type": "code",
   "execution_count": 62,
   "metadata": {},
   "outputs": [],
   "source": [
    "def assign_credit(rewards, discount_rate=0.9, reward_cutoff=0.01):\n",
    "    discounted_rewards, R = np.zeros(len(rewards)), 0\n",
    "    it = reversed(list(enumerate(rewards)))\n",
    "    discounted_rewards[-1] = next(it)[1]\n",
    "    \n",
    "    for i, reward in it:\n",
    "        discounted_rewards[i] = discounted_rewards[i+1]*discount_rate + reward\n",
    "        \n",
    "    return discounted_rewards"
   ]
  },
  {
   "cell_type": "code",
   "execution_count": 77,
   "metadata": {},
   "outputs": [],
   "source": [
    "def get_random_data(n_games=20, discount_rate=0.9, reward_cutoff=0.1, process=True, verbose=False):\n",
    "    states_memory = n_games*1000*80*80*(10**(-9)) if process else \\\n",
    "                    n_games*1000*210*160*3*(10**(-9))\n",
    "    if (states_memory >= 2):\n",
    "        warnings.warn(\n",
    "            \"Memory necessary to capture games will be around {} GB. Ensure proper use and garbage collection of the states array\"\\\n",
    "            .format(states_memory)\n",
    "        )\n",
    "    \n",
    "    states, actions, rewards = [], [], []\n",
    "    avg_time, bar_length = 0, 50\n",
    "    \n",
    "    for n in range(1, n_games+1):\n",
    "        st = time.time()\n",
    "        game_states, game_actions, game_rewards = play_random_game(process=process)\n",
    "        states.extend(game_states)\n",
    "        actions.extend(game_actions)\n",
    "        rewards.extend(assign_credit(game_rewards))\n",
    "        \n",
    "        avg_time += (time.time()-st-avg_time)/n\n",
    "        \n",
    "        bar_stretch = n_games/bar_length\n",
    "        bar = \"[\" + int(n/bar_stretch)*'#' + ceil((n_games-n)/bar_stretch)*' ' + ']'\n",
    "\n",
    "        if verbose:\n",
    "            print(\"Game {:0d}, progress: {}, time left: {:05f}\".format(\n",
    "                n, bar, avg_time*(n_games+1-n)\n",
    "            ), end='\\r')\n",
    "    \n",
    "    if verbose:\n",
    "        print()\n",
    "        print(\"Time elapsed: {:05f}\".format(avg_time*(n_games+1)))\n",
    "        \n",
    "    return states, actions, rewards"
   ]
  },
  {
   "cell_type": "code",
   "execution_count": 86,
   "metadata": {
    "scrolled": true
   },
   "outputs": [
    {
     "name": "stdout",
     "output_type": "stream",
     "text": [
      "Game 10, progress: [##################################################], time left: 0.787221\n",
      "Time elapsed: 8.659435\n"
     ]
    }
   ],
   "source": [
    "states, actions, rewards = get_random_data(n_games=10, process=False, verbose=True)"
   ]
  },
  {
   "cell_type": "markdown",
   "metadata": {},
   "source": [
    "Use the following functions to display games, check behavior of agent and see if downsampling removes any pertinent data. "
   ]
  },
  {
   "cell_type": "code",
   "execution_count": 79,
   "metadata": {},
   "outputs": [],
   "source": [
    "def disp_frame(img):\n",
    "    if not hasattr(img, 'shape'): \n",
    "        raise ValueError\n",
    "    \n",
    "    if len(img.shape) == 3:\n",
    "        if img.shape[2] == 1:\n",
    "            return Image.fromarray(img[:,:,0])\n",
    "    \n",
    "    return Image.fromarray(img)"
   ]
  },
  {
   "cell_type": "code",
   "execution_count": 80,
   "metadata": {},
   "outputs": [],
   "source": [
    "def save_game(filename, data, fps=24):\n",
    "    try:\n",
    "        if data.shape[3] == 1:\n",
    "            return imageio.mimwrite(filename, data, fps=fps)\n",
    "    finally:\n",
    "        return imageio.mimwrite(filename, data, fps=fps)"
   ]
  },
  {
   "cell_type": "code",
   "execution_count": 81,
   "metadata": {},
   "outputs": [],
   "source": [
    "def save_og_proc_game(filename, train_data, processed_data, fps=24):\n",
    "    p_data = processed_data.astype(np.uint8)\n",
    "    p_dim = p_data.shape\n",
    "    d_dim = train_data.shape\n",
    "    \n",
    "    p_data_disp = np.zeros((d_dim[0], d_dim[1], int(d_dim[2]/2), d_dim[3]), dtype=np.uint8)\n",
    "    p_data_disp[:, 74:-56, :] = np.broadcast_to(p_data, (p_dim[0], p_dim[1], p_dim[2], 3))\n",
    "        \n",
    "    im = np.concatenate((train_data.astype(np.uint8), p_data_disp), axis=2)\n",
    "\n",
    "    return imageio.mimwrite(filename, im, fps=fps, subrectangles=True)"
   ]
  },
  {
   "cell_type": "code",
   "execution_count": 87,
   "metadata": {},
   "outputs": [],
   "source": [
    "states = np.array(states)\n",
    "processed_states = process_data(states)"
   ]
  },
  {
   "cell_type": "code",
   "execution_count": 89,
   "metadata": {},
   "outputs": [],
   "source": [
    "save_game('vis/not_processed.gif', states)\n",
    "save_game('vis/processed.gif', processed_states)"
   ]
  },
  {
   "cell_type": "code",
   "execution_count": 88,
   "metadata": {},
   "outputs": [],
   "source": [
    "save_original_processed('vis/sbs.gif', states, processed_states)"
   ]
  }
 ],
 "metadata": {
  "kernelspec": {
   "display_name": "keras_env",
   "language": "python",
   "name": "keras_env"
  },
  "language_info": {
   "codemirror_mode": {
    "name": "ipython",
    "version": 3
   },
   "file_extension": ".py",
   "mimetype": "text/x-python",
   "name": "python",
   "nbconvert_exporter": "python",
   "pygments_lexer": "ipython3",
   "version": "3.6.5"
  }
 },
 "nbformat": 4,
 "nbformat_minor": 2
}
