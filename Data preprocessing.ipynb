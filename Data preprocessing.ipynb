{
 "cells": [
  {
   "cell_type": "code",
   "execution_count": 241,
   "metadata": {},
   "outputs": [],
   "source": [
    "import gym\n",
    "import numpy as np\n",
    "import random \n",
    "from collections import Counter\n",
    "from statistics import mean, median\n",
    "import matplotlib.pyplot as plt\n",
    "%matplotlib inline\n",
    "\n",
    "from keras.models import Sequential\n",
    "from keras.layers import Dense, Flatten  \n",
    "from keras.models import load_model\n",
    "from keras.layers.convolutional import Conv2D, MaxPooling2D"
   ]
  },
  {
   "cell_type": "code",
   "execution_count": 242,
   "metadata": {},
   "outputs": [],
   "source": [
    "UP = 2\n",
    "DOWN = 5"
   ]
  },
  {
   "cell_type": "code",
   "execution_count": 243,
   "metadata": {},
   "outputs": [],
   "source": [
    "env = gym.make('Pong-v0')\n",
    "init_ob = env.reset()"
   ]
  },
  {
   "cell_type": "code",
   "execution_count": 244,
   "metadata": {},
   "outputs": [],
   "source": [
    "def random_action():\n",
    "    r = random.randrange(0,2)\n",
    "    if r == 0:\n",
    "        return UP\n",
    "    elif r == 1:\n",
    "        return DOWN\n",
    "\n",
    "def tobits(act):\n",
    "    if act == 2:\n",
    "        # action was up\n",
    "        return 1\n",
    "    elif act == 5:\n",
    "        # action was down\n",
    "        return -1\n",
    "    else:\n",
    "        # action was noop\n",
    "        return 0"
   ]
  },
  {
   "cell_type": "code",
   "execution_count": 245,
   "metadata": {},
   "outputs": [],
   "source": [
    "def initial_population(n_games=100, max_frames=300, score_requirement = -2):\n",
    "    training_data = []\n",
    "    scores = []\n",
    "    accepted_scores = []\n",
    "    \n",
    "    for episode in range(n_games):\n",
    "        score = 0\n",
    "        game_memory = []\n",
    "        observation = env.reset()\n",
    "\n",
    "        for _ in range(max_frames):\n",
    "            action = random_action()\n",
    "            game_memory.append([observation, tobits(action)])\n",
    "            observation, reward, done, info = env.step(action)\n",
    "            \n",
    "            score += reward\n",
    "            \n",
    "            if done:\n",
    "                break\n",
    "\n",
    "        print(\"=> Episode #\",episode+1,\"\\tScore: \",score)\n",
    "        \n",
    "        if score >= score_requirement:\n",
    "            accepted_scores.append(score)\n",
    "            \n",
    "            for data in game_memory:                \n",
    "                training_data.append([data[0],data[1]])\n",
    "                \n",
    "        scores.append(score)\n",
    "    \n",
    "    env.close()\n",
    "\n",
    "    return training_data"
   ]
  },
  {
   "cell_type": "code",
   "execution_count": 246,
   "metadata": {},
   "outputs": [
    {
     "name": "stdout",
     "output_type": "stream",
     "text": [
      "=> Episode # 1 \tScore:  -5.0\n",
      "=> Episode # 2 \tScore:  -3.0\n",
      "=> Episode # 3 \tScore:  -5.0\n",
      "=> Episode # 4 \tScore:  -5.0\n",
      "=> Episode # 5 \tScore:  -4.0\n",
      "=> Episode # 6 \tScore:  -5.0\n",
      "=> Episode # 7 \tScore:  -4.0\n",
      "=> Episode # 8 \tScore:  -3.0\n",
      "=> Episode # 9 \tScore:  -3.0\n",
      "=> Episode # 10 \tScore:  -5.0\n",
      "=> Episode # 11 \tScore:  -5.0\n",
      "=> Episode # 12 \tScore:  -5.0\n",
      "=> Episode # 13 \tScore:  -4.0\n",
      "=> Episode # 14 \tScore:  -5.0\n",
      "=> Episode # 15 \tScore:  -4.0\n",
      "=> Episode # 16 \tScore:  -5.0\n",
      "=> Episode # 17 \tScore:  -5.0\n",
      "=> Episode # 18 \tScore:  -3.0\n",
      "=> Episode # 19 \tScore:  -2.0\n",
      "=> Episode # 20 \tScore:  -4.0\n",
      "=> Episode # 21 \tScore:  -4.0\n",
      "=> Episode # 22 \tScore:  -3.0\n",
      "=> Episode # 23 \tScore:  -5.0\n",
      "=> Episode # 24 \tScore:  -5.0\n",
      "=> Episode # 25 \tScore:  -3.0\n",
      "=> Episode # 26 \tScore:  -3.0\n",
      "=> Episode # 27 \tScore:  -3.0\n",
      "=> Episode # 28 \tScore:  -5.0\n",
      "=> Episode # 29 \tScore:  -4.0\n",
      "=> Episode # 30 \tScore:  -3.0\n",
      "=> Episode # 31 \tScore:  -5.0\n",
      "=> Episode # 32 \tScore:  -5.0\n",
      "=> Episode # 33 \tScore:  -5.0\n",
      "=> Episode # 34 \tScore:  -5.0\n",
      "=> Episode # 35 \tScore:  -5.0\n",
      "=> Episode # 36 \tScore:  -2.0\n",
      "=> Episode # 37 \tScore:  -5.0\n",
      "=> Episode # 38 \tScore:  -5.0\n",
      "=> Episode # 39 \tScore:  -4.0\n",
      "=> Episode # 40 \tScore:  -3.0\n",
      "=> Episode # 41 \tScore:  -5.0\n",
      "=> Episode # 42 \tScore:  -5.0\n",
      "=> Episode # 43 \tScore:  -4.0\n",
      "=> Episode # 44 \tScore:  -5.0\n",
      "=> Episode # 45 \tScore:  -5.0\n",
      "=> Episode # 46 \tScore:  -4.0\n",
      "=> Episode # 47 \tScore:  -4.0\n",
      "=> Episode # 48 \tScore:  -3.0\n",
      "=> Episode # 49 \tScore:  -5.0\n",
      "=> Episode # 50 \tScore:  -2.0\n",
      "=> Episode # 51 \tScore:  -5.0\n",
      "=> Episode # 52 \tScore:  0.0\n",
      "=> Episode # 53 \tScore:  -4.0\n",
      "=> Episode # 54 \tScore:  -3.0\n",
      "=> Episode # 55 \tScore:  -4.0\n",
      "=> Episode # 56 \tScore:  -4.0\n",
      "=> Episode # 57 \tScore:  -5.0\n",
      "=> Episode # 58 \tScore:  -5.0\n",
      "=> Episode # 59 \tScore:  -4.0\n",
      "=> Episode # 60 \tScore:  -5.0\n",
      "=> Episode # 61 \tScore:  -3.0\n",
      "=> Episode # 62 \tScore:  -5.0\n",
      "=> Episode # 63 \tScore:  -4.0\n",
      "=> Episode # 64 \tScore:  -5.0\n",
      "=> Episode # 65 \tScore:  -5.0\n",
      "=> Episode # 66 \tScore:  -3.0\n",
      "=> Episode # 67 \tScore:  -4.0\n",
      "=> Episode # 68 \tScore:  0.0\n",
      "=> Episode # 69 \tScore:  -4.0\n",
      "=> Episode # 70 \tScore:  -5.0\n",
      "=> Episode # 71 \tScore:  -5.0\n",
      "=> Episode # 72 \tScore:  -5.0\n",
      "=> Episode # 73 \tScore:  -2.0\n",
      "=> Episode # 74 \tScore:  -2.0\n",
      "=> Episode # 75 \tScore:  -3.0\n",
      "=> Episode # 76 \tScore:  -3.0\n",
      "=> Episode # 77 \tScore:  -5.0\n",
      "=> Episode # 78 \tScore:  -5.0\n",
      "=> Episode # 79 \tScore:  -5.0\n",
      "=> Episode # 80 \tScore:  -3.0\n",
      "=> Episode # 81 \tScore:  -3.0\n",
      "=> Episode # 82 \tScore:  -5.0\n",
      "=> Episode # 83 \tScore:  -5.0\n",
      "=> Episode # 84 \tScore:  -3.0\n",
      "=> Episode # 85 \tScore:  -1.0\n",
      "=> Episode # 86 \tScore:  -5.0\n",
      "=> Episode # 87 \tScore:  -3.0\n",
      "=> Episode # 88 \tScore:  -4.0\n",
      "=> Episode # 89 \tScore:  -2.0\n",
      "=> Episode # 90 \tScore:  -5.0\n",
      "=> Episode # 91 \tScore:  -5.0\n",
      "=> Episode # 92 \tScore:  -5.0\n",
      "=> Episode # 93 \tScore:  -4.0\n",
      "=> Episode # 94 \tScore:  -5.0\n",
      "=> Episode # 95 \tScore:  -3.0\n",
      "=> Episode # 96 \tScore:  -4.0\n",
      "=> Episode # 97 \tScore:  -5.0\n",
      "=> Episode # 98 \tScore:  -5.0\n",
      "=> Episode # 99 \tScore:  -1.0\n",
      "=> Episode # 100 \tScore:  -2.0\n"
     ]
    }
   ],
   "source": [
    "Dataset = initial_population()"
   ]
  },
  {
   "cell_type": "code",
   "execution_count": 247,
   "metadata": {},
   "outputs": [],
   "source": [
    "def process_data(data):\n",
    "    cropped = data[34:-16,:]\n",
    "    if len(cropped.shape) == 3:\n",
    "        return np.mean(cropped[::2,::2,:], axis=2)\n",
    "    elif len(cropped.shape) == 4:\n",
    "        downsample = np.mean(cropped[:, ::2, ::2], axis=3)\n",
    "        return downsample.reshape(*downsample.shape, 1)\n",
    "    else:\n",
    "        raise ValueError()"
   ]
  },
  {
   "cell_type": "code",
   "execution_count": 248,
   "metadata": {},
   "outputs": [],
   "source": [
    "X_train = np.array([i[0] for i in Dataset])\n",
    "\n",
    "f = lambda x:x if x == 1 else 0\n",
    "y_train = np.array([f(i[1]) for i in Dataset])\n",
    "y_train = y_train.reshape(y_train.shape[0], 1)"
   ]
  },
  {
   "cell_type": "markdown",
   "metadata": {},
   "source": [
    "Check if downsampling removes pertinent data:"
   ]
  },
  {
   "cell_type": "code",
   "execution_count": 249,
   "metadata": {},
   "outputs": [],
   "source": [
    "def show(img):\n",
    "    if not hasattr(img, 'shape'): \n",
    "        raise ValueError\n",
    "    \n",
    "    if len(img.shape) == 2:\n",
    "        plt.imshow(img, cmap='gray')\n",
    "    else:\n",
    "        plt.imshow(img)"
   ]
  },
  {
   "cell_type": "code",
   "execution_count": 250,
   "metadata": {},
   "outputs": [
    {
     "data": {
      "image/png": "[encoded data removed]",
      "text/plain": [
       "<Figure size 432x288 with 1 Axes>"
      ]
     },
     "metadata": {
      "needs_background": "light"
     },
     "output_type": "display_data"
    }
   ],
   "source": [
    "show(process_data(X_train[20]))"
   ]
  }
 ],
 "metadata": {
  "kernelspec": {
   "display_name": "keras_env",
   "language": "python",
   "name": "keras_env"
  },
  "language_info": {
   "codemirror_mode": {
    "name": "ipython",
    "version": 3
   },
   "file_extension": ".py",
   "mimetype": "text/x-python",
   "name": "python",
   "nbconvert_exporter": "python",
   "pygments_lexer": "ipython3",
   "version": "3.6.5"
  }
 },
 "nbformat": 4,
 "nbformat_minor": 2
}
